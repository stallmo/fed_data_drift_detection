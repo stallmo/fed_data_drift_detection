{
 "cells": [
  {
   "cell_type": "code",
   "execution_count": null,
   "id": "367958e9",
   "metadata": {},
   "outputs": [],
   "source": [
    "import pickle\n",
    "import sys\n",
    "\n",
    "import pandas as pd\n",
    "import numpy as np\n",
    "import plotly.express as px\n",
    "\n",
    "sys.path.append('../cluster_library')\n",
    "sys.path.append('../')\n",
    "\n",
    "import cluster_validation.davies_bouldin as db\n",
    "import federated_clustering.local_learners as fcll\n",
    "import federated_clustering.global_learner as fcgl"
   ]
  },
  {
   "cell_type": "code",
   "execution_count": null,
   "id": "154e2043",
   "metadata": {},
   "outputs": [],
   "source": [
    "path_to_experiment_file = './results/global_drift_2023-12-14_22-42-10_results.pkl' #'./results/local_but_no_global_drift_2023-12-14_21-43-00_results.pkl'"
   ]
  },
  {
   "cell_type": "code",
   "execution_count": null,
   "id": "cd03cd47",
   "metadata": {},
   "outputs": [],
   "source": [
    "\n",
    "with open(path_to_experiment_file, 'rb') as f:\n",
    "    experiment_dict = pickle.load(f)"
   ]
  },
  {
   "cell_type": "code",
   "execution_count": null,
   "id": "b67e40e1",
   "metadata": {},
   "outputs": [],
   "source": [
    "experiment_dict.keys()"
   ]
  },
  {
   "cell_type": "markdown",
   "id": "e46a3cb0",
   "metadata": {},
   "source": [
    "### Initial clustering"
   ]
  },
  {
   "cell_type": "code",
   "execution_count": null,
   "id": "2162f48f",
   "metadata": {},
   "outputs": [],
   "source": [
    "init_global_centers = experiment_dict.get('initial_cluster_results').get('global_cluster_centers')\n",
    "init_db_index = experiment_dict.get('initial_cluster_results').get('global_db')"
   ]
  },
  {
   "cell_type": "code",
   "execution_count": null,
   "id": "ae986966",
   "metadata": {},
   "outputs": [],
   "source": [
    "init_global_centers.shape"
   ]
  },
  {
   "cell_type": "code",
   "execution_count": null,
   "id": "e4cefccc",
   "metadata": {},
   "outputs": [],
   "source": [
    "fig_init_centers = px.scatter(init_global_centers[:,0], init_global_centers[:,1], \n",
    "                              title=f'Initial global cluster centers with DB index of {init_db_index:.4f}',\n",
    "                              symbol_sequence=['x']\n",
    "                              )\n",
    "fig_init_centers.show()"
   ]
  },
  {
   "cell_type": "markdown",
   "id": "a16256b9",
   "metadata": {},
   "source": [
    "#### Look into experiments"
   ]
  },
  {
   "cell_type": "code",
   "execution_count": null,
   "id": "17d4c51e",
   "metadata": {},
   "outputs": [],
   "source": [
    "experiment_dict.get('experiments').keys()"
   ]
  },
  {
   "cell_type": "code",
   "execution_count": null,
   "id": "0c753774",
   "metadata": {},
   "outputs": [],
   "source": [
    "def create_experiment_data_vis(experiment_no, experiment_dict, init_global_centers):\n",
    "    \n",
    "    dict_one_experiment = experiment_dict.get('experiments').get(experiment_no)\n",
    "    title_str = f'Drift was detected: {dict_one_experiment.get(\"drift_detected\")} with a DB index of {dict_one_experiment.get(\"recalculated_db\"):.4f}'\n",
    "    \n",
    "    experiment_new_data_per_client = dict_one_experiment.get('new_data_per_client')\n",
    "\n",
    "    # prepare data for visualization\n",
    "    list_client_dfs = []\n",
    "    for client_no, client_data in experiment_new_data_per_client.items():\n",
    "\n",
    "        df_client = pd.DataFrame(client_data)\n",
    "        df_client.rename(columns={0: 'x',\n",
    "                                  1: 'y'\n",
    "                                 }, inplace=True)\n",
    "\n",
    "        df_client['color'] = f'client_{client_no}'\n",
    "        df_client['marker'] = 'client'\n",
    "\n",
    "        list_client_dfs.append(df_client)\n",
    "\n",
    "    df_all_client_data = pd.concat(list_client_dfs).reset_index(drop=True)\n",
    "\n",
    "    df_centers = pd.DataFrame(init_global_centers, columns=['x', 'y'])\n",
    "    df_centers['color'] = 'global_init_centers'\n",
    "    df_centers['marker'] = 'center'\n",
    "\n",
    "    df_vis = pd.concat([df_all_client_data, df_centers]).reset_index(drop=True)\n",
    "\n",
    "    fig_experiment_data = px.scatter(data_frame=df_vis,\n",
    "                                     x='x',\n",
    "                                     y='y',\n",
    "                                     color='color',\n",
    "                                     symbol='marker',\n",
    "                                     title=title_str\n",
    "                                      )\n",
    "    return fig_experiment_data"
   ]
  },
  {
   "cell_type": "code",
   "execution_count": null,
   "id": "57763fb7",
   "metadata": {},
   "outputs": [],
   "source": [
    "list_fig_experiment_data = [create_experiment_data_vis(experiment_no, \n",
    "                                                       experiment_dict=experiment_dict,\n",
    "                                                       init_global_centers=init_global_centers) \n",
    "                            for experiment_no in range(100)]"
   ]
  },
  {
   "cell_type": "code",
   "execution_count": null,
   "id": "36bf4a44",
   "metadata": {},
   "outputs": [],
   "source": [
    "list_fig_experiment_data[3].show()"
   ]
  },
  {
   "cell_type": "code",
   "execution_count": null,
   "id": "c865db30",
   "metadata": {},
   "outputs": [],
   "source": [
    "list_fig_experiment_data[2].show()"
   ]
  },
  {
   "cell_type": "code",
   "execution_count": null,
   "id": "2af67ef0",
   "metadata": {},
   "outputs": [],
   "source": []
  }
 ],
 "metadata": {
  "kernelspec": {
   "display_name": "venv",
   "language": "python",
   "name": "venv"
  },
  "language_info": {
   "codemirror_mode": {
    "name": "ipython",
    "version": 3
   },
   "file_extension": ".py",
   "mimetype": "text/x-python",
   "name": "python",
   "nbconvert_exporter": "python",
   "pygments_lexer": "ipython3",
   "version": "3.9.12"
  }
 },
 "nbformat": 4,
 "nbformat_minor": 5
}
